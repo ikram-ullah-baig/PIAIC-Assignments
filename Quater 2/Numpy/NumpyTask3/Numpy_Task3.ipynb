{
 "cells": [
  {
   "cell_type": "markdown",
   "metadata": {},
   "source": [
    "# Election Results\n",
    "\n",
    "You’re part of an impartial research group that conducts phone surveys prior to local elections. During this election season, the group conducted a survey to determine how many people would vote for I_Khan vs. S_Sharif in the presidential election.\n",
    "\n",
    "Now that the election has occurred, your group wants to compare the survey responses to the actual results.\n",
    "\n",
    "Was your survey a good indicator? Let’s find out!"
   ]
  },
  {
   "cell_type": "markdown",
   "metadata": {},
   "source": [
    "# PROJECT STEPS"
   ]
  },
  {
   "cell_type": "markdown",
   "metadata": {},
   "source": [
    "1.First, import numpy and matplotlib."
   ]
  },
  {
   "cell_type": "code",
   "execution_count": 53,
   "metadata": {},
   "outputs": [],
   "source": [
    "#type your code here\n",
    "import matplotlib.pyplot as plt\n"
   ]
  },
  {
   "cell_type": "markdown",
   "metadata": {},
   "source": [
    "2.There is a list given of the different survey responses.\n",
    "\n",
    "Calculate the number of people who answered ‘I_Khan’ and save the answer to the variable total_Khan.\n",
    "\n",
    "Print the variable to the terminal to see its value."
   ]
  },
  {
   "cell_type": "code",
   "execution_count": 110,
   "metadata": {},
   "outputs": [
    {
     "name": "stdout",
     "output_type": "stream",
     "text": [
      "total_Khan =  33\n"
     ]
    }
   ],
   "source": [
    "survey_responses = ['I_Khan', 'S_Sharif', 'I_Khan', 'I_Khan', 'I_Khan','S_Sharif',\n",
    "                    'S_Sharif', 'I_Khan', 'I_Khan', 'I_Khan', 'S_Sharif', 'S_Sharif',\n",
    "                    'I_Khan', 'I_Khan', 'S_Sharif', 'S_Sharif','I_Khan', 'I_Khan', \n",
    "                    'S_Sharif', 'S_Sharif', 'S_Sharif', 'S_Sharif', 'S_Sharif', 'S_Sharif', \n",
    "                    'I_Khan', 'I_Khan', 'I_Khan', 'I_Khan', 'I_Khan', 'I_Khan',\n",
    "                    'S_Sharif', 'S_Sharif', 'I_Khan', 'I_Khan', 'I_Khan', 'S_Sharif',\n",
    "                    'S_Sharif', 'I_Khan', 'I_Khan', 'S_Sharif', 'S_Sharif', 'I_Khan', \n",
    "                    'I_Khan', 'S_Sharif', 'S_Sharif', 'S_Sharif', 'S_Sharif', 'S_Sharif',\n",
    "                    'S_Sharif', 'I_Khan','S_Sharif', 'S_Sharif', 'I_Khan', 'I_Khan', \n",
    "                    'I_Khan', 'S_Sharif', 'S_Sharif', 'I_Khan', 'I_Khan', 'S_Sharif', \n",
    "                    'S_Sharif', 'I_Khan', 'I_Khan', 'S_Sharif', 'S_Sharif', 'S_Sharif', \n",
    "                    'S_Sharif', 'S_Sharif', 'S_Sharif', 'I_Khan']\n",
    "\n",
    "import numpy as np\n",
    "\n",
    "survey_responses = np.array(survey_responses)\n",
    "survey_size = np.size(survey_responses)\n",
    "\n",
    "I_khan_votes = np.char.count(survey_responses, 'I_Khan')\n",
    "total_Khan = I_khan_votes.sum()\n",
    "\n",
    "print(\"total_Khan = \", total_Khan)"
   ]
  },
  {
   "cell_type": "markdown",
   "metadata": {},
   "source": [
    "3.Calculate the percentage of people in the survey who voted for I_Khan and save it to the variable percentage_I_Khan.\n",
    "\n",
    "Print the variable to the terminal to see its value."
   ]
  },
  {
   "cell_type": "code",
   "execution_count": 89,
   "metadata": {},
   "outputs": [
    {
     "name": "stdout",
     "output_type": "stream",
     "text": [
      "percentage_I_Khan =  47.14285714285714\n"
     ]
    }
   ],
   "source": [
    "#type your code here\n",
    "percentage_I_Khan = (total_Khan / survey_size) * 100\n",
    "print(\"percentage_I_Khan = \", percentage_I_Khan)"
   ]
  },
  {
   "cell_type": "markdown",
   "metadata": {},
   "source": [
    "4.In the real election, 54% of the 10,000 town population voted for I_Khan. Your supervisors are concerned because this is a very different outcome than what the poll predicted. They want you to determine if there is something wrong with the poll or if given the sample size, it was an entirely reasonable result.\n",
    "\n",
    "Generate a binomial distribution that takes the number of total survey responses, the actual success rate, and the size of the town’s population as its parameters. Then divide the distribution by the number of survey responses. Save your calculation to the variable possible_surveys.\n",
    "\n",
    "######### hint###########\n",
    "possible_surveys = \n",
    "np.random.binomial(total of survey responses, the actual success rate,and the size of the town’s population ) "
   ]
  },
  {
   "cell_type": "code",
   "execution_count": 135,
   "metadata": {},
   "outputs": [
    {
     "name": "stdout",
     "output_type": "stream",
     "text": [
      "possible_surveys =  [0.48571429 0.57142857 0.52857143 ... 0.54285714 0.51428571 0.57142857]\n",
      "10000\n"
     ]
    }
   ],
   "source": [
    "#type your code here\n",
    "actual_success_rate_IK = 0.54\n",
    "possible_surveys = np.random.binomial(survey_size, actual_success_rate_IK, size=10000) / survey_size\n",
    "print('possible_surveys = ', possible_surveys)\n",
    "print(np.size(possible_surveys))"
   ]
  },
  {
   "cell_type": "markdown",
   "metadata": {},
   "source": [
    "\n",
    "      #######Optional########\n",
    "5.By using matplotlib Plot a histogram of possible_surveys with a range of 0-1 and 20 bins.\n"
   ]
  },
  {
   "cell_type": "code",
   "execution_count": 158,
   "metadata": {},
   "outputs": [
    {
     "data": {
      "image/png": "[encoded data removed]",
      "text/plain": [
       "<Figure size 432x288 with 1 Axes>"
      ]
     },
     "metadata": {
      "needs_background": "light"
     },
     "output_type": "display_data"
    }
   ],
   "source": [
    "#type your code here\n",
    "x = possible_surveys\n",
    "\n",
    "plt.hist(x, bins=20, range=(0,1), color=\"purple\")\n",
    "plt.title('Histogram of Possible_Surveys')\n",
    "plt.xlabel('Probability of votes for I_Khan')\n",
    "plt.show()"
   ]
  },
  {
   "cell_type": "markdown",
   "metadata": {},
   "source": [
    "6.As we saw, 47% of people we surveyed said they would vote for I_Khan, but 54% of people voted for I_Khan in the actual election.\n",
    "\n",
    "Calculate the percentage of surveys that could have an outcome of I_Khan receiving less than 50% of the vote and save it to the variable I_Khan_loss_surveys.\n",
    "\n",
    "Print the variable to the terminal."
   ]
  },
  {
   "cell_type": "code",
   "execution_count": 143,
   "metadata": {},
   "outputs": [
    {
     "name": "stdout",
     "output_type": "stream",
     "text": [
      "% of I_khan_loss =  21.740000000000002\n"
     ]
    }
   ],
   "source": [
    "#type your code here\n",
    "x = possible_surveys\n",
    "\n",
    "I_Khan_loss_surveys = (np.size(x[x < 0.5]) / 10000) * 100\n",
    "\n",
    "print(\"% of I_khan_loss = \", I_Khan_loss_surveys)"
   ]
  },
  {
   "cell_type": "markdown",
   "metadata": {},
   "source": [
    "7.With this current poll, about 20% of the time a survey output would predict S_Sharif winning, even if I_Khan won the actual election.\n",
    "\n",
    "Your co-worker points out that your poll would be more accurate if it had more responders.\n",
    "\n",
    "Generate another binomial distribution, but this time, see what would happen if you had instead surveyed 7,000 people. Divide the distribution by the size of the survey and save your findings to large_survey.\n"
   ]
  },
  {
   "cell_type": "code",
   "execution_count": 132,
   "metadata": {},
   "outputs": [
    {
     "name": "stdout",
     "output_type": "stream",
     "text": [
      "[0.53371429 0.53028571 0.52871429 ... 0.54685714 0.54142857 0.52828571]\n"
     ]
    }
   ],
   "source": [
    "#type your code here\n",
    "surveys_new = 7000\n",
    "large_survey = np.random.binomial(surveys_new, actual_success_rate_IK, size=10000) / surveys_new\n",
    "\n",
    "print(large_survey)"
   ]
  },
  {
   "cell_type": "markdown",
   "metadata": {},
   "source": [
    "8.Now, recalculate the percentage of surveys that would have an outcome of I_Khan losing and save it to the variable I_Khan_loss_new, and print the value to the terminal.\n",
    "\n",
    "What do we notice about this new value?\n",
    "\n",
    "What advice would you give to your supervisors about predicting results from surveys?\n"
   ]
  },
  {
   "cell_type": "code",
   "execution_count": 157,
   "metadata": {},
   "outputs": [
    {
     "name": "stdout",
     "output_type": "stream",
     "text": [
      "Percentage of I_Khan getting less than 50% of Total votes =  0.0\n"
     ]
    },
    {
     "data": {
      "image/png": "[encoded data removed]",
      "text/plain": [
       "<Figure size 432x288 with 1 Axes>"
      ]
     },
     "metadata": {
      "needs_background": "light"
     },
     "output_type": "display_data"
    }
   ],
   "source": [
    "#type your code here\n",
    "y = large_survey\n",
    "I_Khan_loss_new = (np.size(y[y < 0.5]) / 10000) * 100\n",
    "print(\"Percentage of I_Khan getting less than 50% of Total votes = \", I_Khan_loss_new)\n",
    "\n",
    "plt.hist(y, bins=20, range=(0,1), color=\"purple\")\n",
    "plt.title('Histogram of large_survey')\n",
    "plt.xlabel('Probability of votes for I_Khan')\n",
    "plt.show()"
   ]
  },
  {
   "cell_type": "markdown",
   "metadata": {},
   "source": [
    "With large data the new results showed that the our survey's prediction reflected the actual election results that is I_Khan winning. \n",
    "0% of the time the survey predicted S_Sharif winning and I_Khan getting less than 50% of the votes.\n",
    "\n",
    "These results showed that larger the data, more accuarte will be our predictions. So when surveying about the upcoming elections, I will suggest my supervisor that an organization needs to collect data from as many responders as possible in order to predict the results more accurately."
   ]
  },
  {
   "cell_type": "code",
   "execution_count": null,
   "metadata": {},
   "outputs": [],
   "source": []
  }
 ],
 "metadata": {
  "kernelspec": {
   "display_name": "Python 3",
   "language": "python",
   "name": "python3"
  },
  "language_info": {
   "codemirror_mode": {
    "name": "ipython",
    "version": 3
   },
   "file_extension": ".py",
   "mimetype": "text/x-python",
   "name": "python",
   "nbconvert_exporter": "python",
   "pygments_lexer": "ipython3",
   "version": "3.8.3"
  }
 },
 "nbformat": 4,
 "nbformat_minor": 2
}
